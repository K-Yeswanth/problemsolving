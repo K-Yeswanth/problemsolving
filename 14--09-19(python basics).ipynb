{
 "cells": [
  {
   "cell_type": "markdown",
   "metadata": {},
   "source": [
    "### 01 check the year is leap year"
   ]
  },
  {
   "cell_type": "code",
   "execution_count": 8,
   "metadata": {},
   "outputs": [
    {
     "name": "stdout",
     "output_type": "stream",
     "text": [
      "enter the value2016\n"
     ]
    }
   ],
   "source": [
    "a=int(input(\"enter the value\"))"
   ]
  },
  {
   "cell_type": "code",
   "execution_count": 16,
   "metadata": {},
   "outputs": [
    {
     "name": "stdout",
     "output_type": "stream",
     "text": [
      "leap year\n"
     ]
    }
   ],
   "source": [
    "if(a%400==0 or (a%100!=0 and a%4==0)):\n",
    "    print(\"leap year\")"
   ]
  },
  {
   "cell_type": "markdown",
   "metadata": {},
   "source": [
    "### 02 check the number of digits n a given number"
   ]
  },
  {
   "cell_type": "code",
   "execution_count": 14,
   "metadata": {},
   "outputs": [
    {
     "name": "stdout",
     "output_type": "stream",
     "text": [
      "enter the number:123456\n",
      "6\n"
     ]
    }
   ],
   "source": [
    "number=int(input(\"enter the number:\"))\n",
    "count=0\n",
    "while(number>0):\n",
    "    number=number//10\n",
    "    count=count+1\n",
    "print(count)"
   ]
  },
  {
   "cell_type": "markdown",
   "metadata": {},
   "source": [
    "### 03 check if the given number is a factor of 1000"
   ]
  },
  {
   "cell_type": "code",
   "execution_count": 20,
   "metadata": {},
   "outputs": [
    {
     "name": "stdout",
     "output_type": "stream",
     "text": [
      "enter the value10\n",
      "the number is not afactor of 1000\n"
     ]
    }
   ],
   "source": [
    "a=int(input(\"enter the value\"))\n",
    "if(a%1000==0):\n",
    "    print(\"the number is factor of 10000\")\n",
    "else:\n",
    "    print(\"the number is not afactor of 1000\")"
   ]
  },
  {
   "cell_type": "markdown",
   "metadata": {},
   "source": [
    "### 04 calculate the square root of a given number"
   ]
  },
  {
   "cell_type": "code",
   "execution_count": 23,
   "metadata": {},
   "outputs": [
    {
     "name": "stdout",
     "output_type": "stream",
     "text": [
      "enter the value4\n",
      "The value of 4 is 2.0\n"
     ]
    }
   ],
   "source": [
    "a=int(input(\"enter the value\"))\n",
    "b = a**0.5\n",
    "print(\"The value of\",a, \"is\", b)"
   ]
  },
  {
   "cell_type": "markdown",
   "metadata": {},
   "source": [
    "### 05 check if the number exist in a given range\n",
    "####  inputs:number(n),range(lower number andupper number)"
   ]
  },
  {
   "cell_type": "code",
   "execution_count": 26,
   "metadata": {},
   "outputs": [
    {
     "data": {
      "text/plain": [
       "15"
      ]
     },
     "execution_count": 26,
     "metadata": {},
     "output_type": "execute_result"
    }
   ],
   "source": [
    "30//2"
   ]
  },
  {
   "cell_type": "code",
   "execution_count": 28,
   "metadata": {},
   "outputs": [
    {
     "data": {
      "text/plain": [
       "15.0"
      ]
     },
     "execution_count": 28,
     "metadata": {},
     "output_type": "execute_result"
    }
   ],
   "source": [
    "30/2"
   ]
  },
  {
   "cell_type": "code",
   "execution_count": 12,
   "metadata": {},
   "outputs": [
    {
     "name": "stdout",
     "output_type": "stream",
     "text": [
      "enter the number5\n",
      "enter the lower value :34\n",
      "enter the upper value:6\n",
      "error: a is greater then b\n"
     ]
    }
   ],
   "source": [
    "number =int(input(\"enter the number\"))\n",
    "lower = int(input(\"enter the lower value :\"))\n",
    "upper = int(input(\"enter the upper value:\"))\n",
    "if lower <upper:\n",
    "    if(number >=lower and number<=upper):\n",
    "        print(\"the nmber is in the range\")\n",
    "    else:\n",
    "        print(\"the number is no in the range\")\n",
    "else:\n",
    "    print(\"error: a is greater then b\")"
   ]
  },
  {
   "cell_type": "code",
   "execution_count": 13,
   "metadata": {},
   "outputs": [
    {
     "name": "stdout",
     "output_type": "stream",
     "text": [
      "enter the number2\n",
      "enter the lower value :3\n",
      "enter the uppwer value:4\n"
     ]
    }
   ],
   "source": [
    "number =int(input(\"enter the number\"))\n",
    "lower = int(input(\"enter the lower value :\"))\n",
    "upper = int(input(\"enter the upper value:\"))\n",
    "for i in range(lower,upper+1):\n",
    "    if i== number:\n",
    "        print(number,\"is in range\")"
   ]
  },
  {
   "cell_type": "code",
   "execution_count": 4,
   "metadata": {},
   "outputs": [
    {
     "name": "stdout",
     "output_type": "stream",
     "text": [
      "enter the number23\n",
      "enter the lower value :34\n",
      "enter the upper value:45\n",
      "23 is not in range\n"
     ]
    }
   ],
   "source": [
    "number =int(input(\"enter the number\"))\n",
    "lower = int(input(\"enter the lower value :\"))\n",
    "upper = int(input(\"enter the upper value:\"))\n",
    "count = 0\n",
    "for i in range(lower,upper+1):\n",
    "    if i==number:\n",
    "        count+=1\n",
    "if count==1:\n",
    "    print(number,\"is in range\")\n",
    "else:\n",
    "    print(number ,\"is not in range\")"
   ]
  },
  {
   "cell_type": "code",
   "execution_count": 14,
   "metadata": {},
   "outputs": [
    {
     "name": "stdout",
     "output_type": "stream",
     "text": [
      "enter the number1\n",
      "enter the lower value :2\n",
      "enter the upper value:3\n",
      "1 not in range\n"
     ]
    }
   ],
   "source": [
    "number =int(input(\"enter the number\"))\n",
    "lower = int(input(\"enter the lower value :\"))\n",
    "upper = int(input(\"enter the upper value:\"))\n",
    "if number in range(lower,upper+1):\n",
    "    print(number,\"in range\")\n",
    "else:\n",
    "    print(number,\"not in range\")"
   ]
  },
  {
   "cell_type": "code",
   "execution_count": null,
   "metadata": {},
   "outputs": [],
   "source": []
  }
 ],
 "metadata": {
  "kernelspec": {
   "display_name": "Python 3",
   "language": "python",
   "name": "python3"
  },
  "language_info": {
   "codemirror_mode": {
    "name": "ipython",
    "version": 3
   },
   "file_extension": ".py",
   "mimetype": "text/x-python",
   "name": "python",
   "nbconvert_exporter": "python",
   "pygments_lexer": "ipython3",
   "version": "3.7.3"
  }
 },
 "nbformat": 4,
 "nbformat_minor": 2
}
