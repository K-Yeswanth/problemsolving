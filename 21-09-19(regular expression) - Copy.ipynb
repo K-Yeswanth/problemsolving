{
 "cells": [
  {
   "cell_type": "markdown",
   "metadata": {},
   "source": [
    "^{9}$[0][6-9][0-9]{9}|^[6-9][0-9]\n"
   ]
  },
  {
   "cell_type": "code",
   "execution_count": null,
   "metadata": {},
   "outputs": [],
   "source": [
    "^[+][9][1][6-9][0-9]{9}$|^[0][6-9][0-9]{9}$|^[6-9]{9}$"
   ]
  },
  {
   "cell_type": "code",
   "execution_count": null,
   "metadata": {},
   "outputs": [],
   "source": [
    "[a-z]{26}"
   ]
  },
  {
   "cell_type": "code",
   "execution_count": null,
   "metadata": {},
   "outputs": [],
   "source": [
    "^[a-zA-Z]{5}$"
   ]
  },
  {
   "cell_type": "code",
   "execution_count": null,
   "metadata": {},
   "outputs": [],
   "source": [
    "^[0-9a-zA-Z][0-9a-zA-Z._-]{6,13}[@][a-zA-Z]{3,8}[.][a-zA-Z]{2,5}$"
   ]
  },
  {
   "cell_type": "code",
   "execution_count": null,
   "metadata": {},
   "outputs": [],
   "source": [
    "[m][s][t][p]"
   ]
  },
  {
   "cell_type": "markdown",
   "metadata": {},
   "source": [
    "### regular expression"
   ]
  },
  {
   "cell_type": "code",
   "execution_count": 6,
   "metadata": {},
   "outputs": [],
   "source": [
    "import  re"
   ]
  },
  {
   "cell_type": "code",
   "execution_count": 7,
   "metadata": {},
   "outputs": [
    {
     "name": "stdout",
     "output_type": "stream",
     "text": [
      "<re.Match object; span=(0, 3), match='app'>\n"
     ]
    }
   ],
   "source": [
    "print(re.match('app','apple'))"
   ]
  },
  {
   "cell_type": "code",
   "execution_count": 8,
   "metadata": {},
   "outputs": [
    {
     "name": "stdout",
     "output_type": "stream",
     "text": [
      "None\n"
     ]
    }
   ],
   "source": [
    "print(re.match('a','hat'))"
   ]
  },
  {
   "cell_type": "code",
   "execution_count": 9,
   "metadata": {},
   "outputs": [
    {
     "name": "stdout",
     "output_type": "stream",
     "text": [
      "<re.Match object; span=(1, 2), match='a'>\n"
     ]
    }
   ],
   "source": [
    "print(re.search('a','haat'))"
   ]
  },
  {
   "cell_type": "code",
   "execution_count": 10,
   "metadata": {},
   "outputs": [
    {
     "name": "stdout",
     "output_type": "stream",
     "text": [
      "['a', 'a']\n"
     ]
    }
   ],
   "source": [
    "print(re.findall('a','hai hello what'))"
   ]
  },
  {
   "cell_type": "code",
   "execution_count": 11,
   "metadata": {},
   "outputs": [
    {
     "name": "stdout",
     "output_type": "stream",
     "text": [
      "['h', 'a', 'h', 'e', 'h', 'a']\n"
     ]
    }
   ],
   "source": [
    "print(re.findall('[a-h]','hai hello what'))"
   ]
  },
  {
   "cell_type": "code",
   "execution_count": 12,
   "metadata": {},
   "outputs": [
    {
     "name": "stdout",
     "output_type": "stream",
     "text": [
      "['a', 'i', 'e', 'o', 'a']\n"
     ]
    }
   ],
   "source": [
    "print(re.findall('[aeiou]','hai hello what'))"
   ]
  },
  {
   "cell_type": "code",
   "execution_count": 13,
   "metadata": {},
   "outputs": [
    {
     "name": "stdout",
     "output_type": "stream",
     "text": [
      "<re.Match object; span=(1, 2), match='a'>\n"
     ]
    }
   ],
   "source": [
    "print(re.search('[aeiou]','hai hello what'))"
   ]
  },
  {
   "cell_type": "code",
   "execution_count": 14,
   "metadata": {},
   "outputs": [
    {
     "name": "stdout",
     "output_type": "stream",
     "text": [
      "None\n"
     ]
    }
   ],
   "source": [
    "print(re.match('[aeiou]','hai hello what'))"
   ]
  },
  {
   "cell_type": "code",
   "execution_count": 18,
   "metadata": {},
   "outputs": [
    {
     "name": "stdout",
     "output_type": "stream",
     "text": [
      "number in rollno: ['1', '8', '8', '1', '2', '1', '0', '4']\n"
     ]
    }
   ],
   "source": [
    "rollno ='18B81A2104'\n",
    "print('number in rollno:',re.findall('[0-9]',rollno))"
   ]
  },
  {
   "cell_type": "code",
   "execution_count": 16,
   "metadata": {},
   "outputs": [
    {
     "name": "stdout",
     "output_type": "stream",
     "text": [
      "['B', 'A']\n"
     ]
    }
   ],
   "source": [
    "rollno ='18B81A2104'\n",
    "print(re.findall('[^0-9]',rollno))"
   ]
  },
  {
   "cell_type": "code",
   "execution_count": 20,
   "metadata": {},
   "outputs": [
    {
     "name": "stdout",
     "output_type": "stream",
     "text": [
      "eaaeaiaaaioaa"
     ]
    }
   ],
   "source": [
    "def findpattern(pattern):\n",
    "    names=['yeswanth rajesh chaitanaya vinod pawan']\n",
    "    for i in names[0]:\n",
    "        if re.findall(pattern,i):\n",
    "            print(i,end=\"\")\n",
    "findpattern('[aeiou]')"
   ]
  },
  {
   "cell_type": "code",
   "execution_count": 24,
   "metadata": {},
   "outputs": [
    {
     "name": "stdout",
     "output_type": "stream",
     "text": [
      "yeswanth\n",
      "chaitanaya\n"
     ]
    }
   ],
   "source": [
    "def findpattern(pattern):\n",
    "    names=['yeswanth', 'rajesh', 'chaitanaya', 'vinod', 'pawan']\n",
    "    for i in names:\n",
    "        if re.findall(pattern,i):\n",
    "            print(i,)\n",
    "findpattern('y')"
   ]
  },
  {
   "cell_type": "code",
   "execution_count": 25,
   "metadata": {},
   "outputs": [
    {
     "name": "stdout",
     "output_type": "stream",
     "text": [
      "yeswanth\n"
     ]
    }
   ],
   "source": [
    "findpattern('^y')"
   ]
  },
  {
   "cell_type": "code",
   "execution_count": 26,
   "metadata": {},
   "outputs": [
    {
     "name": "stdout",
     "output_type": "stream",
     "text": [
      "rajesh\n"
     ]
    }
   ],
   "source": [
    "findpattern('^r')\n"
   ]
  },
  {
   "cell_type": "code",
   "execution_count": 27,
   "metadata": {},
   "outputs": [
    {
     "name": "stdout",
     "output_type": "stream",
     "text": [
      "chaitanaya\n"
     ]
    }
   ],
   "source": [
    "findpattern('a$')"
   ]
  },
  {
   "cell_type": "code",
   "execution_count": 28,
   "metadata": {},
   "outputs": [
    {
     "name": "stdout",
     "output_type": "stream",
     "text": [
      "yeswanth\n",
      "rajesh\n"
     ]
    }
   ],
   "source": [
    "findpattern('e')"
   ]
  },
  {
   "cell_type": "code",
   "execution_count": 30,
   "metadata": {},
   "outputs": [
    {
     "name": "stdout",
     "output_type": "stream",
     "text": [
      "yeswanth\n",
      "rajesh\n",
      "chaitanaya\n",
      "vinod\n",
      "pawan\n"
     ]
    }
   ],
   "source": [
    "findpattern('.....')"
   ]
  },
  {
   "cell_type": "code",
   "execution_count": 31,
   "metadata": {},
   "outputs": [
    {
     "name": "stdout",
     "output_type": "stream",
     "text": [
      "<re.Match object; span=(0, 1), match='6'>\n"
     ]
    }
   ],
   "source": [
    "print(re.match('[0-9]','658468975'))"
   ]
  },
  {
   "cell_type": "code",
   "execution_count": 32,
   "metadata": {},
   "outputs": [
    {
     "name": "stdout",
     "output_type": "stream",
     "text": [
      "<re.Match object; span=(0, 9), match='658468975'>\n"
     ]
    }
   ],
   "source": [
    "print(re.match('[0-9]+','658468975'))"
   ]
  },
  {
   "cell_type": "code",
   "execution_count": 34,
   "metadata": {},
   "outputs": [
    {
     "name": "stdout",
     "output_type": "stream",
     "text": [
      "<re.Match object; span=(0, 9), match='658468975'>\n"
     ]
    }
   ],
   "source": [
    "print(re.search('[0-9]+','658468975'))"
   ]
  },
  {
   "cell_type": "code",
   "execution_count": 35,
   "metadata": {},
   "outputs": [
    {
     "name": "stdout",
     "output_type": "stream",
     "text": [
      "None\n"
     ]
    }
   ],
   "source": [
    "print(re.match('i+','hiiiiii'))"
   ]
  },
  {
   "cell_type": "code",
   "execution_count": 38,
   "metadata": {},
   "outputs": [
    {
     "name": "stdout",
     "output_type": "stream",
     "text": [
      "<re.Match object; span=(0, 3), match='iii'>\n"
     ]
    }
   ],
   "source": [
    "print(re.search('i*','iiightgiii'))"
   ]
  },
  {
   "cell_type": "code",
   "execution_count": 39,
   "metadata": {},
   "outputs": [
    {
     "name": "stdout",
     "output_type": "stream",
     "text": [
      "<re.Match object; span=(0, 5), match='iiiii'>\n"
     ]
    }
   ],
   "source": [
    "print(re.match('i*','iiiiift7i'))"
   ]
  },
  {
   "cell_type": "code",
   "execution_count": 10,
   "metadata": {},
   "outputs": [
    {
     "ename": "NameError",
     "evalue": "name 'i' is not defined",
     "output_type": "error",
     "traceback": [
      "\u001b[1;31m---------------------------------------------------------------------------\u001b[0m",
      "\u001b[1;31mNameError\u001b[0m                                 Traceback (most recent call last)",
      "\u001b[1;32m<ipython-input-10-147021e5eb94>\u001b[0m in \u001b[0;36m<module>\u001b[1;34m\u001b[0m\n\u001b[0;32m      4\u001b[0m         \u001b[1;32mif\u001b[0m \u001b[0mre\u001b[0m\u001b[1;33m.\u001b[0m\u001b[0mfindall\u001b[0m\u001b[1;33m(\u001b[0m\u001b[1;34m'pattern'\u001b[0m\u001b[1;33m,\u001b[0m\u001b[0mi\u001b[0m\u001b[1;33m)\u001b[0m\u001b[1;33m:\u001b[0m\u001b[1;33m\u001b[0m\u001b[1;33m\u001b[0m\u001b[0m\n\u001b[0;32m      5\u001b[0m             \u001b[0mprint\u001b[0m\u001b[1;33m(\u001b[0m\u001b[0mi\u001b[0m\u001b[1;33m)\u001b[0m\u001b[1;33m\u001b[0m\u001b[1;33m\u001b[0m\u001b[0m\n\u001b[1;32m----> 6\u001b[1;33m \u001b[0mfind\u001b[0m\u001b[1;33m(\u001b[0m\u001b[1;34m'[0-9]'\u001b[0m\u001b[1;33m,\u001b[0m\u001b[0mi\u001b[0m\u001b[1;33m)\u001b[0m\u001b[1;33m\u001b[0m\u001b[1;33m\u001b[0m\u001b[0m\n\u001b[0m",
      "\u001b[1;31mNameError\u001b[0m: name 'i' is not defined"
     ]
    }
   ],
   "source": [
    "def find(pattern):\n",
    "    phonenumber=['9647457875','8787468532','6784535347','7755333656']\n",
    "    for i in phonenumber:\n",
    "        if re.findall('pattern',i):\n",
    "            print(i)\n",
    "find('[0-9]')"
   ]
  },
  {
   "cell_type": "code",
   "execution_count": 13,
   "metadata": {},
   "outputs": [
    {
     "name": "stdout",
     "output_type": "stream",
     "text": [
      "70896080778\n",
      "false\n"
     ]
    }
   ],
   "source": [
    "import re\n",
    "pattern ='^[+][9][1][6-9][0-9]{9}$|^[0][6-9][0-9]{9}$|^[6-9]{9}$'\n",
    "num=input()\n",
    "if re.match(pattern,num):\n",
    "    print(\"True\")\n",
    "else:\n",
    "    print(\"false\")"
   ]
  },
  {
   "cell_type": "code",
   "execution_count": 14,
   "metadata": {},
   "outputs": [
    {
     "name": "stdout",
     "output_type": "stream",
     "text": [
      "yeswanth@gmail.com\n",
      "valid\n"
     ]
    }
   ],
   "source": [
    "import re\n",
    "pattern='^[0-9a-zA-Z][0-9a-zA-Z._-]{6,13}[@][a-zA-Z]{3,8}[.][a-zA-Z]{2,5}$'\n",
    "email=input()\n",
    "if re.match(pattern,email):\n",
    "    print(\"valid\")\n",
    "else:\n",
    "    print(\"not valid\")"
   ]
  },
  {
   "cell_type": "code",
   "execution_count": null,
   "metadata": {},
   "outputs": [],
   "source": [
    "import re\n",
    "pattern='^[+][9][1][6-9][0-9]{9}$|^[0][6-9][0-9]{9}$|^[6-9]{9}$'\n",
    "email='^[0-9a-zA-Z][0-9a-zA-Z._-]{6,13}[@][a-zA-Z]{3,8}[.][a-zA-Z]{2,5}$'\n",
    "email=input()\n",
    "pattern=input()\n",
    "d={}"
   ]
  }
 ],
 "metadata": {
  "kernelspec": {
   "display_name": "Python 3",
   "language": "python",
   "name": "python3"
  },
  "language_info": {
   "codemirror_mode": {
    "name": "ipython",
    "version": 3
   },
   "file_extension": ".py",
   "mimetype": "text/x-python",
   "name": "python",
   "nbconvert_exporter": "python",
   "pygments_lexer": "ipython3",
   "version": "3.7.3"
  }
 },
 "nbformat": 4,
 "nbformat_minor": 2
}
